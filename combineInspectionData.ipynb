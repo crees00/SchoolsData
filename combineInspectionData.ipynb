{
 "cells": [
  {
   "cell_type": "code",
   "execution_count": 1,
   "metadata": {},
   "outputs": [],
   "source": [
    "import pandas as pd\n",
    "import numpy as np"
   ]
  },
  {
   "cell_type": "code",
   "execution_count": 2,
   "metadata": {},
   "outputs": [],
   "source": [
    "fileName = r\"C:\\Users\\ONS_2\\Documents\\Chris\\Data\\Copy of Management_information_-_schools_-_1_Sept_2005_to_31_August_2015.xlsx\"\n",
    "df = pd.read_excel(fileName, sheet_name='2005-2015 Inspections', skiprows=0,header=1)"
   ]
  },
  {
   "cell_type": "markdown",
   "metadata": {},
   "source": [
    "Last inspection of 05-15 sheet has start date of 16/7/15"
   ]
  },
  {
   "cell_type": "code",
   "execution_count": 3,
   "metadata": {},
   "outputs": [],
   "source": [
    "fileName = r\"C:\\Users\\ONS_2\\Documents\\Chris\\Data\\Ofsted_31_December_2015.xlsx\"\n",
    "df2 = pd.read_excel(fileName, sheet_name='D1 Sept to Dec 2015')\n",
    "df3 = pd.read_excel(fileName, sheet_name='D2 All schools 31 Dec 2015')"
   ]
  },
  {
   "cell_type": "code",
   "execution_count": 4,
   "metadata": {},
   "outputs": [
    {
     "name": "stdout",
     "output_type": "stream",
     "text": [
      "True\n",
      "True\n"
     ]
    }
   ],
   "source": [
    "# Check that the URNs aren't duplicated in the files\n",
    "print(len(df2['URN'].unique())== len(df2['URN']))\n",
    "print(len(df3['URN'].unique())== len(df3['URN']))"
   ]
  },
  {
   "cell_type": "code",
   "execution_count": 5,
   "metadata": {},
   "outputs": [
    {
     "data": {
      "text/plain": [
       "Primary      494\n",
       "Secondary    186\n",
       "Special       27\n",
       "Nursery       16\n",
       "PRU           15\n",
       "Name: Phase of education, dtype: int64"
      ]
     },
     "execution_count": 5,
     "metadata": {},
     "output_type": "execute_result"
    }
   ],
   "source": [
    "df2['Phase of education'].value_counts()"
   ]
  },
  {
   "cell_type": "code",
   "execution_count": 6,
   "metadata": {},
   "outputs": [
    {
     "data": {
      "text/plain": [
       "Primary      16787\n",
       "Secondary     3382\n",
       "Special       1041\n",
       "Nursery        406\n",
       "PRU            354\n",
       "Name: Phase of education, dtype: int64"
      ]
     },
     "execution_count": 6,
     "metadata": {},
     "output_type": "execute_result"
    }
   ],
   "source": [
    "df3['Phase of education'].value_counts()"
   ]
  },
  {
   "cell_type": "code",
   "execution_count": 7,
   "metadata": {},
   "outputs": [],
   "source": [
    "df2sub = df2[df2['Inspection start date']>'2015-07-16']\n",
    "df3sub = df3[df3['Inspection start date']>'2015-07-16']"
   ]
  },
  {
   "cell_type": "code",
   "execution_count": 8,
   "metadata": {},
   "outputs": [
    {
     "data": {
      "text/plain": [
       "0"
      ]
     },
     "execution_count": 8,
     "metadata": {},
     "output_type": "execute_result"
    }
   ],
   "source": [
    "len(set(df3sub['URN'])-set(df2sub['URN']))"
   ]
  },
  {
   "cell_type": "code",
   "execution_count": 9,
   "metadata": {},
   "outputs": [
    {
     "data": {
      "text/plain": [
       "177"
      ]
     },
     "execution_count": 9,
     "metadata": {},
     "output_type": "execute_result"
    }
   ],
   "source": [
    "len(set(df2sub['URN'])-set(df3sub['URN']))"
   ]
  },
  {
   "cell_type": "code",
   "execution_count": 10,
   "metadata": {},
   "outputs": [
    {
     "data": {
      "text/plain": [
       "Requires Improvement S5 Reinspection Visit 1      284\n",
       "Maintained Academy and School Short inspection    157\n",
       "Schools into Special Measures Visit 5              21\n",
       "S8 No Formal Designation Visit                     21\n",
       "Serious Weaknesses S5 Reinspection                 20\n",
       "Special Measures S5 ReInspection                   17\n",
       "Schools into Special Measures Visit 4              12\n",
       "Schools into Special Measures Visit 3               9\n",
       "S5 Inspection                                       6\n",
       "Section 8 Inspection due to Parental Complaint      3\n",
       "Academy First Section 5                             3\n",
       "Schools with Serious Weaknesses Visit 3             2\n",
       "Schools into Special Measures Visit 2               1\n",
       "Requires Improvement monitoring Visit 1             1\n",
       "Requires Improvement S5 Reinspection Visit 2        1\n",
       "Name: Inspection type, dtype: int64"
      ]
     },
     "execution_count": 10,
     "metadata": {},
     "output_type": "execute_result"
    }
   ],
   "source": [
    "df3sub['Inspection type'].value_counts()"
   ]
  },
  {
   "cell_type": "code",
   "execution_count": 11,
   "metadata": {},
   "outputs": [
    {
     "data": {
      "text/plain": [
       "Maintained Academy and School Short inspection    333\n",
       "Requires Improvement S5 Reinspection Visit 1      285\n",
       "S8 No Formal Designation Visit                     21\n",
       "Schools into Special Measures Visit 5              21\n",
       "Serious Weaknesses S5 Reinspection                 20\n",
       "Special Measures S5 ReInspection                   17\n",
       "Schools into Special Measures Visit 4              12\n",
       "Schools into Special Measures Visit 3               9\n",
       "S5 Inspection                                       6\n",
       "Section 8 Inspection due to Parental Complaint      3\n",
       "Academy First Section 5                             3\n",
       "Schools with Serious Weaknesses Visit 3             2\n",
       "Requires Improvement S5 Reinspection Visit 2        1\n",
       "Requires Improvement monitoring Visit 1             1\n",
       "Schools into Special Measures Visit 2               1\n",
       "Name: Inspection type, dtype: int64"
      ]
     },
     "execution_count": 11,
     "metadata": {},
     "output_type": "execute_result"
    }
   ],
   "source": [
    "df2sub['Inspection type'].value_counts()"
   ]
  },
  {
   "cell_type": "code",
   "execution_count": 12,
   "metadata": {},
   "outputs": [],
   "source": [
    "df3subInType = df3sub[df3sub['Inspection type']=='Maintained Academy and School Short inspection']\n",
    "df2subInType = df2sub[df2sub['Inspection type']=='Maintained Academy and School Short inspection']"
   ]
  },
  {
   "cell_type": "code",
   "execution_count": 13,
   "metadata": {},
   "outputs": [
    {
     "data": {
      "text/plain": [
       "176"
      ]
     },
     "execution_count": 13,
     "metadata": {},
     "output_type": "execute_result"
    }
   ],
   "source": [
    "len(set(df2subInType['Inspection number'])- set(df3subInType['Inspection number']))"
   ]
  },
  {
   "cell_type": "code",
   "execution_count": 14,
   "metadata": {},
   "outputs": [],
   "source": [
    "# Find the 176 rows with inspection number not in df3\n",
    "\n",
    "df23diff = df2subInType[~df2subInType['Inspection number'].isin(df3subInType['Inspection number'])]"
   ]
  },
  {
   "cell_type": "code",
   "execution_count": 15,
   "metadata": {},
   "outputs": [],
   "source": [
    "df23diff.to_csv('df23diff.csv')"
   ]
  },
  {
   "cell_type": "code",
   "execution_count": 16,
   "metadata": {},
   "outputs": [
    {
     "name": "stdout",
     "output_type": "stream",
     "text": [
      "Schools - Short inspection    176\n",
      "Name: Inspection type grouping, dtype: int64 \n",
      "\n",
      "Schools - S5                             332\n",
      "Schools - Short inspection               176\n",
      "Schools - Short inspection Conversion    157\n",
      "Schools - S8 deemed S5                    70\n",
      "Name: Inspection type grouping, dtype: int64\n"
     ]
    }
   ],
   "source": [
    "# Value counts show that the 'Schools - Short inspection' data are not in the df3 (all schools) file\n",
    "# These are NOT duplicate inspections as the 'Inspection number' is unique for all rows of original data (df2&df3)\n",
    "# so ***** USE DF2 - SUBSET TAB ******\n",
    "print(df23diff['Inspection type grouping'].value_counts(),'\\n')\n",
    "print(df2sub['Inspection type grouping'].value_counts())"
   ]
  },
  {
   "cell_type": "code",
   "execution_count": 17,
   "metadata": {},
   "outputs": [
    {
     "data": {
      "text/plain": [
       "count         21085\n",
       "unique        21085\n",
       "top       ITS406070\n",
       "freq              1\n",
       "Name: Inspection number, dtype: object"
      ]
     },
     "execution_count": 17,
     "metadata": {},
     "output_type": "execute_result"
    }
   ],
   "source": [
    "df3['Inspection number'].describe()"
   ]
  },
  {
   "cell_type": "code",
   "execution_count": 18,
   "metadata": {},
   "outputs": [],
   "source": [
    "dfToDec15 = df.append(df2, sort=False)"
   ]
  },
  {
   "cell_type": "code",
   "execution_count": 19,
   "metadata": {},
   "outputs": [
    {
     "data": {
      "text/plain": [
       "735"
      ]
     },
     "execution_count": 19,
     "metadata": {},
     "output_type": "execute_result"
    }
   ],
   "source": [
    "len(df2sub)"
   ]
  },
  {
   "cell_type": "code",
   "execution_count": 20,
   "metadata": {},
   "outputs": [
    {
     "name": "stdout",
     "output_type": "stream",
     "text": [
      "(66844, 81) (738, 42) (67582, 110)\n"
     ]
    }
   ],
   "source": [
    "print(df.shape, df2.shape, dfToDec15.shape)"
   ]
  },
  {
   "cell_type": "code",
   "execution_count": 21,
   "metadata": {},
   "outputs": [],
   "source": [
    "# Format: Filename, SheetName, skiprows, header\n",
    "fileNames = {\n",
    "    'Aug16' : ['Ofsted_31_August_2016.xlsx', 'D1 Sep 15 to Aug 16', None, 0],\n",
    "    'Aug17' : ['Ofsted_31_August_2017.xlsx', 'D1 Sep 16 to Aug 17', None, 0],\n",
    "    'Aug18' : ['Ofsted_31_August_2018.xlsx', '1 Sep 17 to 31 Aug 2018', None, 0],\n",
    "    'Dec15' : ['Ofsted_31_December_2015.xlsx', 'D1 Sept to Dec 2015', None, 0],\n",
    "    'Dec16' : ['Ofsted_31_December_2016.xlsx', 'D1 Sep 16 to Dec 16', None, 0],\n",
    "    'Dec17' : ['Ofsted_31_December_2017.xlsx', 'D1 Sep 17 to Dec 17', None, 0],\n",
    "    'Dec18' : ['Ofsted_31_December_2018.xlsx', '1 Sep 18 to 31 Dec 2018', None, 0],\n",
    "    'Mar16' : ['Ofsted_31_March_2016.xlsx', 'D1 Sep 15 to Mar 16', None, 0],\n",
    "    'Mar17' : ['Ofsted_31_March_2017.xlsx', 'D1 Sep 16 to Mar 17', None, 0],\n",
    "    'Mar18' : ['Ofsted_31_March_2018.xlsx', '1 Sep 17 to 31 Mar 2018', None, 0]}\n"
   ]
  },
  {
   "cell_type": "code",
   "execution_count": 24,
   "metadata": {},
   "outputs": [],
   "source": [
    "def appendDataFrameFromFile(df0, infoList, dropCols = False):\n",
    "    '''Takes original dataframe df0 and appends a dataframe to the bottom of it\n",
    "    i.e. it just adds in extra rows at the bottom.\n",
    "    If dropCols is True, it will delete all of the columns apart from the four\n",
    "    listed in the 'toKeep' list \n",
    "    Returns new dataframe'''\n",
    "    \n",
    "    fileName = r\"C:\\Users\\ONS_2\\Documents\\Chris\\Data\" + '\\\\' + infoList[0]\n",
    "    dfToAdd = pd.read_excel(fileName, \n",
    "                       sheet_name= infoList[1], \n",
    "                       skiprows= infoList[2],\n",
    "                       header= infoList[3])\n",
    "   \n",
    "    if dropCols == True:\n",
    "        toKeep = ['URN', 'Inspection start date', 'LAESTAB','Inspection number']\n",
    "        toDrop1 = list(set(dfToAdd.columns) - set(toKeep))\n",
    "        dfToAdd.drop(labels=toDrop1, axis=1, inplace=True)\n",
    "        toDrop2 = list(set(df0.columns) - set(toKeep))\n",
    "        df0.drop(labels=toDrop2, axis=1, inplace=True)\n",
    "    dfDict[infoList[0][:-5]] = dfToAdd\n",
    "    \n",
    "    print('Appending',infoList[0],'with shape:',dfToAdd.shape, 'to df with shape:',df0.shape)\n",
    "    newDF = df0.append(dfToAdd, sort=False)\n",
    "    print('Output df has shape',newDF.shape)\n",
    "    \n",
    "    return newDF\n",
    "\n",
    "\n",
    "    \n",
    "    \n",
    "    "
   ]
  },
  {
   "cell_type": "code",
   "execution_count": 25,
   "metadata": {},
   "outputs": [
    {
     "name": "stdout",
     "output_type": "stream",
     "text": [
      "Appending Ofsted_31_August_2016.xlsx with shape: (3359, 42) to df with shape: (66844, 81)\n",
      "Output df has shape (70203, 111)\n",
      "Appending Ofsted_31_August_2017.xlsx with shape: (5434, 44) to df with shape: (70203, 111)\n",
      "Output df has shape (75637, 114)\n",
      "Appending Ofsted_31_August_2018.xlsx with shape: (6131, 54) to df with shape: (75637, 114)\n",
      "Output df has shape (81768, 126)\n",
      "Appending Ofsted_31_December_2015.xlsx with shape: (738, 42) to df with shape: (81768, 126)\n",
      "Output df has shape (82506, 130)\n",
      "Appending Ofsted_31_December_2016.xlsx with shape: (1481, 50) to df with shape: (82506, 130)\n",
      "Output df has shape (83987, 136)\n",
      "Appending Ofsted_31_December_2017.xlsx with shape: (2035, 44) to df with shape: (83987, 136)\n",
      "Output df has shape (86022, 136)\n",
      "Appending Ofsted_31_December_2018.xlsx with shape: (1716, 54) to df with shape: (86022, 136)\n",
      "Output df has shape (87738, 137)\n",
      "Appending Ofsted_31_March_2016.xlsx with shape: (1906, 41) to df with shape: (87738, 137)\n",
      "Output df has shape (89644, 137)\n",
      "Appending Ofsted_31_March_2017.xlsx with shape: (3216, 44) to df with shape: (89644, 137)\n",
      "Output df has shape (92860, 137)\n",
      "Appending Ofsted_31_March_2018.xlsx with shape: (4104, 49) to df with shape: (92860, 137)\n",
      "Output df has shape (96964, 137)\n"
     ]
    }
   ],
   "source": [
    "bigDF = df.copy()\n",
    "dfDict = {'0515':bigDF}\n",
    "\n",
    "for key in fileNames.keys():\n",
    "    bigDF = appendDataFrameFromFile(bigDF, fileNames[key])\n",
    "\n",
    "#bigDF.to_csv('bigMash2.csv')\n",
    "#bigDF = pd.read_csv('bigMash1.csv')"
   ]
  },
  {
   "cell_type": "code",
   "execution_count": 26,
   "metadata": {
    "scrolled": false
   },
   "outputs": [
    {
     "data": {
      "text/plain": [
       "85387"
      ]
     },
     "execution_count": 26,
     "metadata": {},
     "output_type": "execute_result"
    }
   ],
   "source": [
    "len(bigDF['Inspection number'].unique())\n",
    "# 11,000 duplicate inspections..."
   ]
  },
  {
   "cell_type": "code",
   "execution_count": 27,
   "metadata": {},
   "outputs": [],
   "source": [
    "#InspNosSoFar = df['Inspection number']\n",
    "#for key in fileNames.keys():\n",
    "#    fileName = r\"C:\\Users\\ONS_2\\Documents\\Chris\\Data\" + '\\\\' + fileNames[key][0]\n",
    "#    dfToAdd = pd.read_excel(fileName, \n",
    "#                       sheet_name= fileNames[key][1], \n",
    "#                       skiprows= fileNames[key][2],\n",
    "#                       header= fileNames[key][3])\n",
    "#    \n",
    "#    print(key)\n",
    "#    print(dfToAdd[dfToAdd['Inspection number'].isin(InspNosSoFar)])\n",
    "#    InspNosSoFar.append(list(dfToAdd[~dfToAdd['Inspection number'].isin(InspNosSoFar)]))"
   ]
  },
  {
   "cell_type": "code",
   "execution_count": 28,
   "metadata": {},
   "outputs": [
    {
     "data": {
      "text/html": [
       "<div>\n",
       "<style scoped>\n",
       "    .dataframe tbody tr th:only-of-type {\n",
       "        vertical-align: middle;\n",
       "    }\n",
       "\n",
       "    .dataframe tbody tr th {\n",
       "        vertical-align: top;\n",
       "    }\n",
       "\n",
       "    .dataframe thead th {\n",
       "        text-align: right;\n",
       "    }\n",
       "</style>\n",
       "<table border=\"1\" class=\"dataframe\">\n",
       "  <thead>\n",
       "    <tr style=\"text-align: right;\">\n",
       "      <th></th>\n",
       "      <th>Web link</th>\n",
       "      <th>URN</th>\n",
       "      <th>LAESTAB</th>\n",
       "      <th>School name</th>\n",
       "      <th>Post code</th>\n",
       "      <th>Ofsted region</th>\n",
       "      <th>Region</th>\n",
       "      <th>Local authority</th>\n",
       "      <th>Parliamentary constituency</th>\n",
       "      <th>Type of school</th>\n",
       "      <th>...</th>\n",
       "      <th>Inspection type grouping (final)</th>\n",
       "      <th>16-19 study programmes</th>\n",
       "      <th>Previous 16-19 study programmes</th>\n",
       "      <th>Linked school type of education</th>\n",
       "      <th>OB number on Roll</th>\n",
       "      <th>conversion decision</th>\n",
       "      <th>deemed flag</th>\n",
       "      <th>Withdrawn date</th>\n",
       "      <th>Previous withdrawn date</th>\n",
       "      <th>Number of warning notices issued in 2018/19 academic year</th>\n",
       "    </tr>\n",
       "  </thead>\n",
       "  <tbody>\n",
       "    <tr>\n",
       "      <th>404</th>\n",
       "      <td>NaN</td>\n",
       "      <td>106774</td>\n",
       "      <td>3713319</td>\n",
       "      <td>Our Lady of Sorrows Catholic Primary School</td>\n",
       "      <td>NaN</td>\n",
       "      <td>North East, Yorkshire and the Humber</td>\n",
       "      <td>Yorkshire and the Humber</td>\n",
       "      <td>Doncaster</td>\n",
       "      <td>Doncaster Central</td>\n",
       "      <td>NaN</td>\n",
       "      <td>...</td>\n",
       "      <td>NaN</td>\n",
       "      <td>NaN</td>\n",
       "      <td>NaN</td>\n",
       "      <td>NaN</td>\n",
       "      <td>NaN</td>\n",
       "      <td>NaN</td>\n",
       "      <td>NaN</td>\n",
       "      <td>NaN</td>\n",
       "      <td>NaN</td>\n",
       "      <td>NaN</td>\n",
       "    </tr>\n",
       "    <tr>\n",
       "      <th>1206</th>\n",
       "      <td>NaN</td>\n",
       "      <td>124445</td>\n",
       "      <td>8604181</td>\n",
       "      <td>King Edward VI High School</td>\n",
       "      <td>NaN</td>\n",
       "      <td>West Midlands</td>\n",
       "      <td>West Midlands</td>\n",
       "      <td>Staffordshire</td>\n",
       "      <td>Stafford</td>\n",
       "      <td>NaN</td>\n",
       "      <td>...</td>\n",
       "      <td>NaN</td>\n",
       "      <td>NaN</td>\n",
       "      <td>NaN</td>\n",
       "      <td>NaN</td>\n",
       "      <td>NaN</td>\n",
       "      <td>NaN</td>\n",
       "      <td>NaN</td>\n",
       "      <td>NaN</td>\n",
       "      <td>NaN</td>\n",
       "      <td>NaN</td>\n",
       "    </tr>\n",
       "    <tr>\n",
       "      <th>493</th>\n",
       "      <td>NaN</td>\n",
       "      <td>106774</td>\n",
       "      <td>3713319</td>\n",
       "      <td>Our Lady of Sorrows Catholic Primary School</td>\n",
       "      <td>NaN</td>\n",
       "      <td>North East, Yorkshire and the Humber</td>\n",
       "      <td>Yorkshire and the Humber</td>\n",
       "      <td>Doncaster</td>\n",
       "      <td>Doncaster Central</td>\n",
       "      <td>NaN</td>\n",
       "      <td>...</td>\n",
       "      <td>NaN</td>\n",
       "      <td>NaN</td>\n",
       "      <td>NaN</td>\n",
       "      <td>NaN</td>\n",
       "      <td>149.0</td>\n",
       "      <td>Yes</td>\n",
       "      <td>NaN</td>\n",
       "      <td>NaN</td>\n",
       "      <td>NaN</td>\n",
       "      <td>NaN</td>\n",
       "    </tr>\n",
       "    <tr>\n",
       "      <th>995</th>\n",
       "      <td>NaN</td>\n",
       "      <td>124445</td>\n",
       "      <td>8604181</td>\n",
       "      <td>King Edward VI High School</td>\n",
       "      <td>NaN</td>\n",
       "      <td>West Midlands</td>\n",
       "      <td>West Midlands</td>\n",
       "      <td>Staffordshire</td>\n",
       "      <td>Stafford</td>\n",
       "      <td>NaN</td>\n",
       "      <td>...</td>\n",
       "      <td>NaN</td>\n",
       "      <td>NaN</td>\n",
       "      <td>NaN</td>\n",
       "      <td>NaN</td>\n",
       "      <td>720.0</td>\n",
       "      <td>NaN</td>\n",
       "      <td>NaN</td>\n",
       "      <td>NaN</td>\n",
       "      <td>NaN</td>\n",
       "      <td>NaN</td>\n",
       "    </tr>\n",
       "    <tr>\n",
       "      <th>432</th>\n",
       "      <td>NaN</td>\n",
       "      <td>106774</td>\n",
       "      <td>3713319</td>\n",
       "      <td>Our Lady of Sorrows Catholic Primary School</td>\n",
       "      <td>NaN</td>\n",
       "      <td>North East, Yorkshire and the Humber</td>\n",
       "      <td>Yorkshire and the Humber</td>\n",
       "      <td>Doncaster</td>\n",
       "      <td>Doncaster Central</td>\n",
       "      <td>NaN</td>\n",
       "      <td>...</td>\n",
       "      <td>NaN</td>\n",
       "      <td>NaN</td>\n",
       "      <td>NaN</td>\n",
       "      <td>NaN</td>\n",
       "      <td>NaN</td>\n",
       "      <td>NaN</td>\n",
       "      <td>NaN</td>\n",
       "      <td>NaN</td>\n",
       "      <td>NaN</td>\n",
       "      <td>NaN</td>\n",
       "    </tr>\n",
       "    <tr>\n",
       "      <th>1221</th>\n",
       "      <td>NaN</td>\n",
       "      <td>124445</td>\n",
       "      <td>8604181</td>\n",
       "      <td>King Edward VI High School</td>\n",
       "      <td>NaN</td>\n",
       "      <td>West Midlands</td>\n",
       "      <td>West Midlands</td>\n",
       "      <td>Staffordshire</td>\n",
       "      <td>Stafford</td>\n",
       "      <td>NaN</td>\n",
       "      <td>...</td>\n",
       "      <td>NaN</td>\n",
       "      <td>NaN</td>\n",
       "      <td>NaN</td>\n",
       "      <td>NaN</td>\n",
       "      <td>NaN</td>\n",
       "      <td>NaN</td>\n",
       "      <td>NaN</td>\n",
       "      <td>NaN</td>\n",
       "      <td>NaN</td>\n",
       "      <td>NaN</td>\n",
       "    </tr>\n",
       "  </tbody>\n",
       "</table>\n",
       "<p>6 rows × 137 columns</p>\n",
       "</div>"
      ],
      "text/plain": [
       "     Web link     URN  LAESTAB                                  School name  \\\n",
       "404       NaN  106774  3713319  Our Lady of Sorrows Catholic Primary School   \n",
       "1206      NaN  124445  8604181                   King Edward VI High School   \n",
       "493       NaN  106774  3713319  Our Lady of Sorrows Catholic Primary School   \n",
       "995       NaN  124445  8604181                   King Edward VI High School   \n",
       "432       NaN  106774  3713319  Our Lady of Sorrows Catholic Primary School   \n",
       "1221      NaN  124445  8604181                   King Edward VI High School   \n",
       "\n",
       "     Post code                         Ofsted region  \\\n",
       "404        NaN  North East, Yorkshire and the Humber   \n",
       "1206       NaN                         West Midlands   \n",
       "493        NaN  North East, Yorkshire and the Humber   \n",
       "995        NaN                         West Midlands   \n",
       "432        NaN  North East, Yorkshire and the Humber   \n",
       "1221       NaN                         West Midlands   \n",
       "\n",
       "                        Region Local authority Parliamentary constituency  \\\n",
       "404   Yorkshire and the Humber       Doncaster          Doncaster Central   \n",
       "1206             West Midlands   Staffordshire                   Stafford   \n",
       "493   Yorkshire and the Humber       Doncaster          Doncaster Central   \n",
       "995              West Midlands   Staffordshire                   Stafford   \n",
       "432   Yorkshire and the Humber       Doncaster          Doncaster Central   \n",
       "1221             West Midlands   Staffordshire                   Stafford   \n",
       "\n",
       "     Type of school  ... Inspection type grouping (final)  \\\n",
       "404             NaN  ...                              NaN   \n",
       "1206            NaN  ...                              NaN   \n",
       "493             NaN  ...                              NaN   \n",
       "995             NaN  ...                              NaN   \n",
       "432             NaN  ...                              NaN   \n",
       "1221            NaN  ...                              NaN   \n",
       "\n",
       "     16-19 study programmes Previous 16-19 study programmes  \\\n",
       "404                     NaN                             NaN   \n",
       "1206                    NaN                             NaN   \n",
       "493                     NaN                             NaN   \n",
       "995                     NaN                             NaN   \n",
       "432                     NaN                             NaN   \n",
       "1221                    NaN                             NaN   \n",
       "\n",
       "      Linked school type of education OB number on Roll conversion decision  \\\n",
       "404                               NaN               NaN                 NaN   \n",
       "1206                              NaN               NaN                 NaN   \n",
       "493                               NaN             149.0                 Yes   \n",
       "995                               NaN             720.0                 NaN   \n",
       "432                               NaN               NaN                 NaN   \n",
       "1221                              NaN               NaN                 NaN   \n",
       "\n",
       "     deemed flag Withdrawn date Previous withdrawn date  \\\n",
       "404          NaN            NaN                     NaN   \n",
       "1206         NaN            NaN                     NaN   \n",
       "493          NaN            NaN                     NaN   \n",
       "995          NaN            NaN                     NaN   \n",
       "432          NaN            NaN                     NaN   \n",
       "1221         NaN            NaN                     NaN   \n",
       "\n",
       "     Number of warning notices issued in 2018/19 academic year  \n",
       "404                                                 NaN         \n",
       "1206                                                NaN         \n",
       "493                                                 NaN         \n",
       "995                                                 NaN         \n",
       "432                                                 NaN         \n",
       "1221                                                NaN         \n",
       "\n",
       "[6 rows x 137 columns]"
      ]
     },
     "execution_count": 28,
     "metadata": {},
     "output_type": "execute_result"
    }
   ],
   "source": [
    "dupExampleDF = bigDF[(bigDF['Inspection number']==10020029) | \n",
    "                     (bigDF['Inspection number']==10019296)]\n",
    "dupExampleDF"
   ]
  },
  {
   "cell_type": "code",
   "execution_count": 29,
   "metadata": {},
   "outputs": [
    {
     "data": {
      "text/plain": [
       "2"
      ]
     },
     "execution_count": 29,
     "metadata": {},
     "output_type": "execute_result"
    }
   ],
   "source": [
    "dupExampleDF['URN'].nunique()\n",
    "dupExampleDF['Inspection start date'].nunique()\n",
    "dupExampleDF['LAESTAB'].nunique()"
   ]
  },
  {
   "cell_type": "code",
   "execution_count": 30,
   "metadata": {},
   "outputs": [
    {
     "data": {
      "text/plain": [
       "URN                      1\n",
       "Inspection start date    1\n",
       "LAESTAB                  1\n",
       "dtype: int64"
      ]
     },
     "execution_count": 30,
     "metadata": {},
     "output_type": "execute_result"
    }
   ],
   "source": [
    "bigDF[bigDF['Inspection number']==10020029][['URN', 'Inspection start date', 'LAESTAB']].nunique()"
   ]
  },
  {
   "cell_type": "code",
   "execution_count": 31,
   "metadata": {},
   "outputs": [],
   "source": [
    "def func(index):\n",
    "    #print(index)\n",
    "    return bigDF['Inspection number']==index"
   ]
  },
  {
   "cell_type": "code",
   "execution_count": 32,
   "metadata": {},
   "outputs": [],
   "source": [
    "#bigDF['Dups'] = bigDF['Inspection number'].apply(func)"
   ]
  },
  {
   "cell_type": "code",
   "execution_count": 33,
   "metadata": {},
   "outputs": [],
   "source": [
    "#bigDF['Dups']"
   ]
  },
  {
   "cell_type": "code",
   "execution_count": 34,
   "metadata": {},
   "outputs": [
    {
     "data": {
      "text/plain": [
       "dict_keys(['0515', 'Ofsted_31_August_2016', 'Ofsted_31_August_2017', 'Ofsted_31_August_2018', 'Ofsted_31_December_2015', 'Ofsted_31_December_2016', 'Ofsted_31_December_2017', 'Ofsted_31_December_2018', 'Ofsted_31_March_2016', 'Ofsted_31_March_2017', 'Ofsted_31_March_2018'])"
      ]
     },
     "execution_count": 34,
     "metadata": {},
     "output_type": "execute_result"
    }
   ],
   "source": [
    "dfDict.keys()"
   ]
  },
  {
   "cell_type": "code",
   "execution_count": 35,
   "metadata": {},
   "outputs": [
    {
     "name": "stdout",
     "output_type": "stream",
     "text": [
      "0515\n",
      "66844 66844\n",
      "Ofsted_31_August_2016\n",
      "3359 3359\n",
      "Ofsted_31_August_2017\n",
      "5434 5434\n",
      "Ofsted_31_August_2018\n",
      "6131 6131\n",
      "Ofsted_31_December_2015\n",
      "738 738\n",
      "Ofsted_31_December_2016\n",
      "1481 1481\n",
      "Ofsted_31_December_2017\n",
      "2035 2035\n",
      "Ofsted_31_December_2018\n",
      "1716 1716\n",
      "Ofsted_31_March_2016\n",
      "1906 1906\n",
      "Ofsted_31_March_2017\n",
      "3216 3216\n",
      "Ofsted_31_March_2018\n",
      "4104 4104\n",
      "96964\n"
     ]
    }
   ],
   "source": [
    "# No duplicate inspections in each file\n",
    "tot = 0\n",
    "for key in dfDict.keys():\n",
    "    print (key)\n",
    "    print(len(dfDict[key]), len(dfDict[key]['Inspection number'].unique()))\n",
    "    tot += len(dfDict[key])\n",
    "print(tot)"
   ]
  },
  {
   "cell_type": "code",
   "execution_count": 36,
   "metadata": {},
   "outputs": [
    {
     "data": {
      "text/plain": [
       "11577"
      ]
     },
     "execution_count": 36,
     "metadata": {},
     "output_type": "execute_result"
    }
   ],
   "source": [
    "96964-85387\n"
   ]
  },
  {
   "cell_type": "code",
   "execution_count": 37,
   "metadata": {},
   "outputs": [
    {
     "data": {
      "text/plain": [
       "81768"
      ]
     },
     "execution_count": 37,
     "metadata": {},
     "output_type": "execute_result"
    }
   ],
   "source": [
    "66844+3359+5434+6131 "
   ]
  },
  {
   "cell_type": "code",
   "execution_count": 38,
   "metadata": {},
   "outputs": [
    {
     "name": "stdout",
     "output_type": "stream",
     "text": [
      "Appending Ofsted_31_August_2016.xlsx with shape: (3359, 4) to df with shape: (66844, 4)\n",
      "Output df has shape (70203, 4)\n",
      "Appending Ofsted_31_August_2017.xlsx with shape: (5434, 4) to df with shape: (70203, 4)\n",
      "Output df has shape (75637, 4)\n",
      "Appending Ofsted_31_August_2018.xlsx with shape: (6131, 4) to df with shape: (75637, 4)\n",
      "Output df has shape (81768, 4)\n",
      "Appending Ofsted_31_December_2015.xlsx with shape: (738, 4) to df with shape: (81768, 4)\n",
      "Output df has shape (82506, 4)\n",
      "Appending Ofsted_31_December_2016.xlsx with shape: (1481, 4) to df with shape: (82506, 4)\n",
      "Output df has shape (83987, 4)\n",
      "Appending Ofsted_31_December_2017.xlsx with shape: (2035, 4) to df with shape: (83987, 4)\n",
      "Output df has shape (86022, 4)\n",
      "Appending Ofsted_31_December_2018.xlsx with shape: (1716, 4) to df with shape: (86022, 4)\n",
      "Output df has shape (87738, 4)\n",
      "Appending Ofsted_31_March_2016.xlsx with shape: (1906, 4) to df with shape: (87738, 4)\n",
      "Output df has shape (89644, 4)\n",
      "Appending Ofsted_31_March_2017.xlsx with shape: (3216, 4) to df with shape: (89644, 4)\n",
      "Output df has shape (92860, 4)\n",
      "Appending Ofsted_31_March_2018.xlsx with shape: (4104, 4) to df with shape: (92860, 4)\n",
      "Output df has shape (96964, 4)\n"
     ]
    }
   ],
   "source": [
    "bigDFchopped = df.copy()\n",
    "dfDictChopped = {'0515':bigDFchopped}\n",
    "\n",
    "for key in fileNames.keys():\n",
    "    bigDFchopped = appendDataFrameFromFile(bigDFchopped, fileNames[key], True)\n",
    "\n",
    "bigDFchopped.to_csv('bigMashchopped.csv')\n",
    "#bigDF = pd.read_csv('bigMash1.csv')"
   ]
  },
  {
   "cell_type": "code",
   "execution_count": 39,
   "metadata": {},
   "outputs": [
    {
     "name": "stdout",
     "output_type": "stream",
     "text": [
      "URN\n",
      "True     68820\n",
      "False    28144\n",
      "dtype: int64\n",
      "LAESTAB\n",
      "True     71869\n",
      "False    25095\n",
      "dtype: int64\n",
      "Inspection number\n",
      "False    85387\n",
      "True     11577\n",
      "dtype: int64\n",
      "Inspection start date\n",
      "True     95012\n",
      "False     1952\n",
      "dtype: int64\n",
      "\n",
      "Count number of fully duplicated rows\n",
      "False    85388\n",
      "True     11576\n",
      "dtype: int64\n"
     ]
    }
   ],
   "source": [
    "for col in bigDFchopped.columns:\n",
    "    print(col)\n",
    "    print(bigDFchopped.duplicated(col).value_counts())\n",
    "\n",
    "print('\\nCount number of fully duplicated rows')\n",
    "print(bigDFchopped.duplicated().value_counts())\n",
    "\n",
    "# So all (bar one) of the 11577 duplicated inspection numbers also share the \n",
    "# same URN, LAESTAB and Inspection start date.\n",
    "# So safe to remove duplicate cols"
   ]
  },
  {
   "cell_type": "code",
   "execution_count": 40,
   "metadata": {},
   "outputs": [
    {
     "data": {
      "text/html": [
       "<div>\n",
       "<style scoped>\n",
       "    .dataframe tbody tr th:only-of-type {\n",
       "        vertical-align: middle;\n",
       "    }\n",
       "\n",
       "    .dataframe tbody tr th {\n",
       "        vertical-align: top;\n",
       "    }\n",
       "\n",
       "    .dataframe thead th {\n",
       "        text-align: right;\n",
       "    }\n",
       "</style>\n",
       "<table border=\"1\" class=\"dataframe\">\n",
       "  <thead>\n",
       "    <tr style=\"text-align: right;\">\n",
       "      <th></th>\n",
       "      <th>Web link</th>\n",
       "      <th>URN</th>\n",
       "      <th>LAESTAB</th>\n",
       "      <th>School name</th>\n",
       "      <th>Post code</th>\n",
       "      <th>Ofsted region</th>\n",
       "      <th>Region</th>\n",
       "      <th>Local authority</th>\n",
       "      <th>Parliamentary constituency</th>\n",
       "      <th>Type of school</th>\n",
       "      <th>...</th>\n",
       "      <th>Inspection type grouping (final)</th>\n",
       "      <th>16-19 study programmes</th>\n",
       "      <th>Previous 16-19 study programmes</th>\n",
       "      <th>Linked school type of education</th>\n",
       "      <th>OB number on Roll</th>\n",
       "      <th>conversion decision</th>\n",
       "      <th>deemed flag</th>\n",
       "      <th>Withdrawn date</th>\n",
       "      <th>Previous withdrawn date</th>\n",
       "      <th>Number of warning notices issued in 2018/19 academic year</th>\n",
       "    </tr>\n",
       "  </thead>\n",
       "  <tbody>\n",
       "    <tr>\n",
       "      <th>0</th>\n",
       "      <td>Ofsted School Webpage</td>\n",
       "      <td>108120</td>\n",
       "      <td>3837016</td>\n",
       "      <td>St John's Catholic School for the Deaf (Boston...</td>\n",
       "      <td>LS23 6DF</td>\n",
       "      <td>North East, Yorkshire and Humber</td>\n",
       "      <td>Yorkshire and the Humber</td>\n",
       "      <td>Leeds</td>\n",
       "      <td>Elmet and Rothwell</td>\n",
       "      <td>Non-Maintained Special School</td>\n",
       "      <td>...</td>\n",
       "      <td>NaN</td>\n",
       "      <td>NaN</td>\n",
       "      <td>NaN</td>\n",
       "      <td>NaN</td>\n",
       "      <td>NaN</td>\n",
       "      <td>NaN</td>\n",
       "      <td>NaN</td>\n",
       "      <td>NaN</td>\n",
       "      <td>NaN</td>\n",
       "      <td>NaN</td>\n",
       "    </tr>\n",
       "    <tr>\n",
       "      <th>1</th>\n",
       "      <td>Ofsted School Webpage</td>\n",
       "      <td>138793</td>\n",
       "      <td>9262027</td>\n",
       "      <td>Great Yarmouth Primary Academy</td>\n",
       "      <td>NR30 3DT</td>\n",
       "      <td>East of England</td>\n",
       "      <td>East of England</td>\n",
       "      <td>Norfolk</td>\n",
       "      <td>Great Yarmouth</td>\n",
       "      <td>Academy Sponsor Led</td>\n",
       "      <td>...</td>\n",
       "      <td>NaN</td>\n",
       "      <td>NaN</td>\n",
       "      <td>NaN</td>\n",
       "      <td>NaN</td>\n",
       "      <td>NaN</td>\n",
       "      <td>NaN</td>\n",
       "      <td>NaN</td>\n",
       "      <td>NaN</td>\n",
       "      <td>NaN</td>\n",
       "      <td>NaN</td>\n",
       "    </tr>\n",
       "    <tr>\n",
       "      <th>2</th>\n",
       "      <td>Ofsted School Webpage</td>\n",
       "      <td>134897</td>\n",
       "      <td>8963804</td>\n",
       "      <td>The Arches Community Primary School</td>\n",
       "      <td>CH1 5EZ</td>\n",
       "      <td>North West</td>\n",
       "      <td>North West</td>\n",
       "      <td>Cheshire West and Chester</td>\n",
       "      <td>City of Chester</td>\n",
       "      <td>Community School</td>\n",
       "      <td>...</td>\n",
       "      <td>NaN</td>\n",
       "      <td>NaN</td>\n",
       "      <td>NaN</td>\n",
       "      <td>NaN</td>\n",
       "      <td>NaN</td>\n",
       "      <td>NaN</td>\n",
       "      <td>NaN</td>\n",
       "      <td>NaN</td>\n",
       "      <td>NaN</td>\n",
       "      <td>NaN</td>\n",
       "    </tr>\n",
       "    <tr>\n",
       "      <th>3</th>\n",
       "      <td>Ofsted School Webpage</td>\n",
       "      <td>114567</td>\n",
       "      <td>8463341</td>\n",
       "      <td>Cottesmore St Mary's Catholic Primary School</td>\n",
       "      <td>BN3 6NB</td>\n",
       "      <td>South East</td>\n",
       "      <td>South East</td>\n",
       "      <td>Brighton and Hove</td>\n",
       "      <td>Hove</td>\n",
       "      <td>Voluntary Aided School</td>\n",
       "      <td>...</td>\n",
       "      <td>NaN</td>\n",
       "      <td>NaN</td>\n",
       "      <td>NaN</td>\n",
       "      <td>NaN</td>\n",
       "      <td>NaN</td>\n",
       "      <td>NaN</td>\n",
       "      <td>NaN</td>\n",
       "      <td>NaN</td>\n",
       "      <td>NaN</td>\n",
       "      <td>NaN</td>\n",
       "    </tr>\n",
       "    <tr>\n",
       "      <th>4</th>\n",
       "      <td>Ofsted School Webpage</td>\n",
       "      <td>125524</td>\n",
       "      <td>9372050</td>\n",
       "      <td>Stratford-upon-Avon Primary School</td>\n",
       "      <td>CV37 6HN</td>\n",
       "      <td>West Midlands</td>\n",
       "      <td>West Midlands</td>\n",
       "      <td>Warwickshire</td>\n",
       "      <td>Stratford-on-Avon</td>\n",
       "      <td>Community School</td>\n",
       "      <td>...</td>\n",
       "      <td>NaN</td>\n",
       "      <td>NaN</td>\n",
       "      <td>NaN</td>\n",
       "      <td>NaN</td>\n",
       "      <td>NaN</td>\n",
       "      <td>NaN</td>\n",
       "      <td>NaN</td>\n",
       "      <td>NaN</td>\n",
       "      <td>NaN</td>\n",
       "      <td>NaN</td>\n",
       "    </tr>\n",
       "  </tbody>\n",
       "</table>\n",
       "<p>5 rows × 137 columns</p>\n",
       "</div>"
      ],
      "text/plain": [
       "                Web link     URN  LAESTAB  \\\n",
       "0  Ofsted School Webpage  108120  3837016   \n",
       "1  Ofsted School Webpage  138793  9262027   \n",
       "2  Ofsted School Webpage  134897  8963804   \n",
       "3  Ofsted School Webpage  114567  8463341   \n",
       "4  Ofsted School Webpage  125524  9372050   \n",
       "\n",
       "                                         School name Post code  \\\n",
       "0  St John's Catholic School for the Deaf (Boston...  LS23 6DF   \n",
       "1                     Great Yarmouth Primary Academy  NR30 3DT   \n",
       "2                The Arches Community Primary School   CH1 5EZ   \n",
       "3       Cottesmore St Mary's Catholic Primary School   BN3 6NB   \n",
       "4                 Stratford-upon-Avon Primary School  CV37 6HN   \n",
       "\n",
       "                      Ofsted region                    Region  \\\n",
       "0  North East, Yorkshire and Humber  Yorkshire and the Humber   \n",
       "1                   East of England           East of England   \n",
       "2                        North West                North West   \n",
       "3                        South East                South East   \n",
       "4                     West Midlands             West Midlands   \n",
       "\n",
       "             Local authority Parliamentary constituency  \\\n",
       "0                      Leeds         Elmet and Rothwell   \n",
       "1                    Norfolk             Great Yarmouth   \n",
       "2  Cheshire West and Chester            City of Chester   \n",
       "3          Brighton and Hove                       Hove   \n",
       "4               Warwickshire          Stratford-on-Avon   \n",
       "\n",
       "                  Type of school  ... Inspection type grouping (final)  \\\n",
       "0  Non-Maintained Special School  ...                              NaN   \n",
       "1            Academy Sponsor Led  ...                              NaN   \n",
       "2               Community School  ...                              NaN   \n",
       "3         Voluntary Aided School  ...                              NaN   \n",
       "4               Community School  ...                              NaN   \n",
       "\n",
       "  16-19 study programmes Previous 16-19 study programmes  \\\n",
       "0                    NaN                             NaN   \n",
       "1                    NaN                             NaN   \n",
       "2                    NaN                             NaN   \n",
       "3                    NaN                             NaN   \n",
       "4                    NaN                             NaN   \n",
       "\n",
       "   Linked school type of education OB number on Roll conversion decision  \\\n",
       "0                              NaN               NaN                 NaN   \n",
       "1                              NaN               NaN                 NaN   \n",
       "2                              NaN               NaN                 NaN   \n",
       "3                              NaN               NaN                 NaN   \n",
       "4                              NaN               NaN                 NaN   \n",
       "\n",
       "  deemed flag Withdrawn date Previous withdrawn date  \\\n",
       "0         NaN            NaN                     NaN   \n",
       "1         NaN            NaN                     NaN   \n",
       "2         NaN            NaN                     NaN   \n",
       "3         NaN            NaN                     NaN   \n",
       "4         NaN            NaN                     NaN   \n",
       "\n",
       "  Number of warning notices issued in 2018/19 academic year  \n",
       "0                                                NaN         \n",
       "1                                                NaN         \n",
       "2                                                NaN         \n",
       "3                                                NaN         \n",
       "4                                                NaN         \n",
       "\n",
       "[5 rows x 137 columns]"
      ]
     },
     "execution_count": 40,
     "metadata": {},
     "output_type": "execute_result"
    }
   ],
   "source": [
    "bigDF.head()"
   ]
  },
  {
   "cell_type": "code",
   "execution_count": 41,
   "metadata": {},
   "outputs": [
    {
     "name": "stdout",
     "output_type": "stream",
     "text": [
      "96964 85387\n"
     ]
    }
   ],
   "source": [
    "print(len(bigDF), len(bigDF['Inspection number'].unique()))"
   ]
  },
  {
   "cell_type": "code",
   "execution_count": 42,
   "metadata": {},
   "outputs": [
    {
     "name": "stdout",
     "output_type": "stream",
     "text": [
      "\n",
      "Count number of fully duplicated rows\n",
      "False    96848\n",
      "True       116\n",
      "dtype: int64\n"
     ]
    }
   ],
   "source": [
    "allDupsDF = bigDF[bigDF.duplicated('Inspection number', keep=False)]\n",
    "\n",
    "print('\\nCount number of fully duplicated rows')\n",
    "print(bigDF.duplicated().value_counts())"
   ]
  },
  {
   "cell_type": "code",
   "execution_count": 43,
   "metadata": {},
   "outputs": [
    {
     "data": {
      "text/plain": [
       "count    8058.000000\n",
       "mean        2.436709\n",
       "std         0.496009\n",
       "min         2.000000\n",
       "25%         2.000000\n",
       "50%         2.000000\n",
       "75%         3.000000\n",
       "max         3.000000\n",
       "Name: Inspection number, dtype: float64"
      ]
     },
     "execution_count": 43,
     "metadata": {},
     "output_type": "execute_result"
    }
   ],
   "source": [
    "#allDupsDF.to_csv('allDupsDF.csv')\n",
    "allDupsDF['Inspection number'].value_counts().describe()"
   ]
  },
  {
   "cell_type": "code",
   "execution_count": 44,
   "metadata": {},
   "outputs": [
    {
     "name": "stdout",
     "output_type": "stream",
     "text": [
      "(85387, 137)\n"
     ]
    }
   ],
   "source": [
    "bigDFsorted = bigDF.sort_values(by = ['URN','Total number of pupils'], axis=0)\n",
    "bigDFnoDups = bigDFsorted.drop_duplicates('Inspection number')\n",
    "print(bigDFnoDups.shape)"
   ]
  },
  {
   "cell_type": "code",
   "execution_count": 45,
   "metadata": {},
   "outputs": [
    {
     "data": {
      "text/plain": [
       "count    85387.000000\n",
       "mean         3.023353\n",
       "std          2.162158\n",
       "min          1.000000\n",
       "25%          2.000000\n",
       "50%          2.000000\n",
       "75%          3.000000\n",
       "max          9.000000\n",
       "Name: Overall effectiveness, dtype: float64"
      ]
     },
     "execution_count": 45,
     "metadata": {},
     "output_type": "execute_result"
    }
   ],
   "source": [
    "bigDFnoDups['Inspection number'].nunique()\n",
    "bigDFnoDups['Overall effectiveness'].describe()"
   ]
  },
  {
   "cell_type": "code",
   "execution_count": 46,
   "metadata": {},
   "outputs": [],
   "source": [
    "URNchanges = pd.read_excel(r\"C:\\Users\\ONS_2\\Documents\\Chris\\Data\\Academies.xlsx\", sheet_name='Open', skiprows=9)"
   ]
  },
  {
   "cell_type": "code",
   "execution_count": 47,
   "metadata": {},
   "outputs": [
    {
     "data": {
      "text/html": [
       "<div>\n",
       "<style scoped>\n",
       "    .dataframe tbody tr th:only-of-type {\n",
       "        vertical-align: middle;\n",
       "    }\n",
       "\n",
       "    .dataframe tbody tr th {\n",
       "        vertical-align: top;\n",
       "    }\n",
       "\n",
       "    .dataframe thead th {\n",
       "        text-align: right;\n",
       "    }\n",
       "</style>\n",
       "<table border=\"1\" class=\"dataframe\">\n",
       "  <thead>\n",
       "    <tr style=\"text-align: right;\">\n",
       "      <th></th>\n",
       "      <th>URN</th>\n",
       "      <th>DFE Number</th>\n",
       "      <th>Academy Name</th>\n",
       "      <th>Academy Phase</th>\n",
       "      <th>Application date/original free school open date</th>\n",
       "      <th>Open</th>\n",
       "      <th>Parliamentary Constituency</th>\n",
       "      <th>Local Authority</th>\n",
       "      <th>Government Office Region</th>\n",
       "      <th>RSC Region</th>\n",
       "      <th>Predecessor School URN(s)</th>\n",
       "      <th>Predecessor School Name(s)</th>\n",
       "      <th>Academy Route</th>\n",
       "      <th>Trust Type</th>\n",
       "      <th>Trust Name</th>\n",
       "      <th>Trust ID</th>\n",
       "      <th>Companies House Number</th>\n",
       "      <th>Sponsor**</th>\n",
       "      <th>Sponsor ID</th>\n",
       "    </tr>\n",
       "  </thead>\n",
       "  <tbody>\n",
       "    <tr>\n",
       "      <th>0</th>\n",
       "      <td>133386</td>\n",
       "      <td>3096905</td>\n",
       "      <td>Greig City Academy</td>\n",
       "      <td>Secondary</td>\n",
       "      <td>*</td>\n",
       "      <td>2002-09-01</td>\n",
       "      <td>Hornsey and Wood Green</td>\n",
       "      <td>Haringey</td>\n",
       "      <td>London</td>\n",
       "      <td>East of England and North East London</td>\n",
       "      <td>102160</td>\n",
       "      <td>St David and St Katharine CofE Secondary School</td>\n",
       "      <td>Sponsored</td>\n",
       "      <td>SAT</td>\n",
       "      <td>GREIG CITY ACADEMY</td>\n",
       "      <td>TR00916</td>\n",
       "      <td>4220486</td>\n",
       "      <td>Greig Trust</td>\n",
       "      <td>SP00249</td>\n",
       "    </tr>\n",
       "    <tr>\n",
       "      <th>1</th>\n",
       "      <td>133768</td>\n",
       "      <td>8066905</td>\n",
       "      <td>Unity City Academy</td>\n",
       "      <td>Secondary</td>\n",
       "      <td>*</td>\n",
       "      <td>2002-09-01</td>\n",
       "      <td>Middlesbrough</td>\n",
       "      <td>Middlesbrough</td>\n",
       "      <td>North East</td>\n",
       "      <td>North</td>\n",
       "      <td>111738, 111750</td>\n",
       "      <td>Langbaurgh School, Keldholme School</td>\n",
       "      <td>Sponsored</td>\n",
       "      <td>SAT</td>\n",
       "      <td>UNITY CITY ACADEMY TRUST</td>\n",
       "      <td>TR02344</td>\n",
       "      <td>4357009</td>\n",
       "      <td>Academies Enterprise Trust (AET)</td>\n",
       "      <td>SP00003</td>\n",
       "    </tr>\n",
       "    <tr>\n",
       "      <th>2</th>\n",
       "      <td>134225</td>\n",
       "      <td>2106906</td>\n",
       "      <td>Harris Academy Peckham</td>\n",
       "      <td>Secondary</td>\n",
       "      <td>*</td>\n",
       "      <td>2003-06-03</td>\n",
       "      <td>Camberwell and Peckham</td>\n",
       "      <td>Southwark</td>\n",
       "      <td>London</td>\n",
       "      <td>South East and South London</td>\n",
       "      <td>100848</td>\n",
       "      <td>Warwick Park School</td>\n",
       "      <td>Sponsored</td>\n",
       "      <td>MAT</td>\n",
       "      <td>HARRIS FEDERATION</td>\n",
       "      <td>TR00968</td>\n",
       "      <td>6228587</td>\n",
       "      <td>Harris Federation</td>\n",
       "      <td>SP00257</td>\n",
       "    </tr>\n",
       "    <tr>\n",
       "      <th>3</th>\n",
       "      <td>134226</td>\n",
       "      <td>3046905</td>\n",
       "      <td>Capital City Academy</td>\n",
       "      <td>Secondary</td>\n",
       "      <td>*</td>\n",
       "      <td>2003-09-01</td>\n",
       "      <td>Brent Central</td>\n",
       "      <td>Brent</td>\n",
       "      <td>London</td>\n",
       "      <td>North West London and South Central</td>\n",
       "      <td>101551</td>\n",
       "      <td>Willesden High School</td>\n",
       "      <td>Sponsored</td>\n",
       "      <td>SAT</td>\n",
       "      <td>THE CAPITAL CITY ACADEMY TRUST</td>\n",
       "      <td>TR00388</td>\n",
       "      <td>4268208</td>\n",
       "      <td>Sir Frank Lowe</td>\n",
       "      <td>SP00466</td>\n",
       "    </tr>\n",
       "    <tr>\n",
       "      <th>4</th>\n",
       "      <td>134369</td>\n",
       "      <td>3076905</td>\n",
       "      <td>Alec Reed Academy</td>\n",
       "      <td>All Through</td>\n",
       "      <td>*</td>\n",
       "      <td>2003-09-01</td>\n",
       "      <td>Ealing North</td>\n",
       "      <td>Ealing</td>\n",
       "      <td>London</td>\n",
       "      <td>North West London and South Central</td>\n",
       "      <td>101871, 101929</td>\n",
       "      <td>Northolt Primary School, The Compton High Scho...</td>\n",
       "      <td>Sponsored</td>\n",
       "      <td>SAT</td>\n",
       "      <td>THE ALEC REED ACADEMY</td>\n",
       "      <td>TR00039</td>\n",
       "      <td>4444278</td>\n",
       "      <td>Alec Reed</td>\n",
       "      <td>SP00011</td>\n",
       "    </tr>\n",
       "    <tr>\n",
       "      <th>5</th>\n",
       "      <td>134224</td>\n",
       "      <td>3526905</td>\n",
       "      <td>Manchester Academy</td>\n",
       "      <td>Secondary</td>\n",
       "      <td>*</td>\n",
       "      <td>2003-09-01</td>\n",
       "      <td>Manchester Central</td>\n",
       "      <td>Manchester</td>\n",
       "      <td>North West</td>\n",
       "      <td>Lancashire and West Yorkshire</td>\n",
       "      <td>105567</td>\n",
       "      <td>Ducie High School</td>\n",
       "      <td>Sponsored</td>\n",
       "      <td>MAT</td>\n",
       "      <td>UNITED LEARNING TRUST</td>\n",
       "      <td>TR02343</td>\n",
       "      <td>4439859</td>\n",
       "      <td>United Learning Trust</td>\n",
       "      <td>SP00592</td>\n",
       "    </tr>\n",
       "    <tr>\n",
       "      <th>6</th>\n",
       "      <td>134223</td>\n",
       "      <td>8066906</td>\n",
       "      <td>The King's Academy</td>\n",
       "      <td>Secondary</td>\n",
       "      <td>*</td>\n",
       "      <td>2003-09-01</td>\n",
       "      <td>Middlesbrough South and East Cleveland</td>\n",
       "      <td>Middlesbrough</td>\n",
       "      <td>North East</td>\n",
       "      <td>North</td>\n",
       "      <td>111743, 111752</td>\n",
       "      <td>Coulby Newham School, Brackenhoe School</td>\n",
       "      <td>Sponsored</td>\n",
       "      <td>MAT</td>\n",
       "      <td>EMMANUEL SCHOOLS FOUNDATION</td>\n",
       "      <td>TR03704</td>\n",
       "      <td>4464331</td>\n",
       "      <td>Emmanuel Schools Foundation</td>\n",
       "      <td>SP00220</td>\n",
       "    </tr>\n",
       "    <tr>\n",
       "      <th>7</th>\n",
       "      <td>134253</td>\n",
       "      <td>8926905</td>\n",
       "      <td>Djanogly City Academy</td>\n",
       "      <td>Secondary</td>\n",
       "      <td>*</td>\n",
       "      <td>2003-09-01</td>\n",
       "      <td>Nottingham East</td>\n",
       "      <td>Nottingham</td>\n",
       "      <td>East Midlands</td>\n",
       "      <td>East Midlands and Humber</td>\n",
       "      <td>122887, 122946</td>\n",
       "      <td>Forest Comprehensive School, Djanogly City Tec...</td>\n",
       "      <td>Sponsored</td>\n",
       "      <td>MAT</td>\n",
       "      <td>DJANOGLY LEARNING TRUST</td>\n",
       "      <td>TR00672</td>\n",
       "      <td>4544722</td>\n",
       "      <td>Djanogly Learning Trust</td>\n",
       "      <td>SP00198</td>\n",
       "    </tr>\n",
       "    <tr>\n",
       "      <th>8</th>\n",
       "      <td>134222</td>\n",
       "      <td>2106905</td>\n",
       "      <td>City of London Academy (Southwark)</td>\n",
       "      <td>Secondary</td>\n",
       "      <td>*</td>\n",
       "      <td>2003-09-01</td>\n",
       "      <td>Bermondsey and Old Southwark</td>\n",
       "      <td>Southwark</td>\n",
       "      <td>London</td>\n",
       "      <td>South East and South London</td>\n",
       "      <td>NaN</td>\n",
       "      <td>NaN</td>\n",
       "      <td>Sponsored</td>\n",
       "      <td>MAT</td>\n",
       "      <td>CITY OF LONDON ACADEMIES TRUST</td>\n",
       "      <td>TR00514</td>\n",
       "      <td>4504128</td>\n",
       "      <td>City of London Academies Trust</td>\n",
       "      <td>SP00128</td>\n",
       "    </tr>\n",
       "    <tr>\n",
       "      <th>9</th>\n",
       "      <td>133697</td>\n",
       "      <td>3356905</td>\n",
       "      <td>Walsall Academy</td>\n",
       "      <td>Secondary</td>\n",
       "      <td>*</td>\n",
       "      <td>2003-09-01</td>\n",
       "      <td>Walsall North</td>\n",
       "      <td>Walsall</td>\n",
       "      <td>West Midlands</td>\n",
       "      <td>West Midlands</td>\n",
       "      <td>104244</td>\n",
       "      <td>T P Riley Community School</td>\n",
       "      <td>Sponsored</td>\n",
       "      <td>MAT</td>\n",
       "      <td>THOMAS TELFORD MULTI ACADEMY TRUST</td>\n",
       "      <td>TR01870</td>\n",
       "      <td>4798185</td>\n",
       "      <td>Thomas Telford School</td>\n",
       "      <td>SP00576</td>\n",
       "    </tr>\n",
       "  </tbody>\n",
       "</table>\n",
       "</div>"
      ],
      "text/plain": [
       "      URN  DFE Number                        Academy Name Academy Phase  \\\n",
       "0  133386     3096905                  Greig City Academy     Secondary   \n",
       "1  133768     8066905                  Unity City Academy     Secondary   \n",
       "2  134225     2106906              Harris Academy Peckham     Secondary   \n",
       "3  134226     3046905                Capital City Academy     Secondary   \n",
       "4  134369     3076905                   Alec Reed Academy   All Through   \n",
       "5  134224     3526905                  Manchester Academy     Secondary   \n",
       "6  134223     8066906                  The King's Academy     Secondary   \n",
       "7  134253     8926905               Djanogly City Academy     Secondary   \n",
       "8  134222     2106905  City of London Academy (Southwark)     Secondary   \n",
       "9  133697     3356905                     Walsall Academy     Secondary   \n",
       "\n",
       "  Application date/original free school open date       Open  \\\n",
       "0                                               * 2002-09-01   \n",
       "1                                               * 2002-09-01   \n",
       "2                                               * 2003-06-03   \n",
       "3                                               * 2003-09-01   \n",
       "4                                               * 2003-09-01   \n",
       "5                                               * 2003-09-01   \n",
       "6                                               * 2003-09-01   \n",
       "7                                               * 2003-09-01   \n",
       "8                                               * 2003-09-01   \n",
       "9                                               * 2003-09-01   \n",
       "\n",
       "               Parliamentary Constituency Local Authority  \\\n",
       "0                  Hornsey and Wood Green        Haringey   \n",
       "1                           Middlesbrough   Middlesbrough   \n",
       "2                  Camberwell and Peckham       Southwark   \n",
       "3                           Brent Central           Brent   \n",
       "4                            Ealing North          Ealing   \n",
       "5                      Manchester Central      Manchester   \n",
       "6  Middlesbrough South and East Cleveland   Middlesbrough   \n",
       "7                         Nottingham East      Nottingham   \n",
       "8            Bermondsey and Old Southwark       Southwark   \n",
       "9                           Walsall North         Walsall   \n",
       "\n",
       "  Government Office Region                             RSC Region  \\\n",
       "0                   London  East of England and North East London   \n",
       "1               North East                                  North   \n",
       "2                   London            South East and South London   \n",
       "3                   London    North West London and South Central   \n",
       "4                   London    North West London and South Central   \n",
       "5               North West          Lancashire and West Yorkshire   \n",
       "6               North East                                  North   \n",
       "7            East Midlands               East Midlands and Humber   \n",
       "8                   London            South East and South London   \n",
       "9            West Midlands                          West Midlands   \n",
       "\n",
       "  Predecessor School URN(s)  \\\n",
       "0                    102160   \n",
       "1            111738, 111750   \n",
       "2                    100848   \n",
       "3                    101551   \n",
       "4            101871, 101929   \n",
       "5                    105567   \n",
       "6            111743, 111752   \n",
       "7            122887, 122946   \n",
       "8                       NaN   \n",
       "9                    104244   \n",
       "\n",
       "                          Predecessor School Name(s) Academy Route Trust Type  \\\n",
       "0    St David and St Katharine CofE Secondary School     Sponsored        SAT   \n",
       "1                Langbaurgh School, Keldholme School     Sponsored        SAT   \n",
       "2                                Warwick Park School     Sponsored        MAT   \n",
       "3                              Willesden High School     Sponsored        SAT   \n",
       "4  Northolt Primary School, The Compton High Scho...     Sponsored        SAT   \n",
       "5                                  Ducie High School     Sponsored        MAT   \n",
       "6            Coulby Newham School, Brackenhoe School     Sponsored        MAT   \n",
       "7  Forest Comprehensive School, Djanogly City Tec...     Sponsored        MAT   \n",
       "8                                                NaN     Sponsored        MAT   \n",
       "9                         T P Riley Community School     Sponsored        MAT   \n",
       "\n",
       "                           Trust Name Trust ID  Companies House Number  \\\n",
       "0                  GREIG CITY ACADEMY  TR00916                 4220486   \n",
       "1            UNITY CITY ACADEMY TRUST  TR02344                 4357009   \n",
       "2                   HARRIS FEDERATION  TR00968                 6228587   \n",
       "3      THE CAPITAL CITY ACADEMY TRUST  TR00388                 4268208   \n",
       "4               THE ALEC REED ACADEMY  TR00039                 4444278   \n",
       "5               UNITED LEARNING TRUST  TR02343                 4439859   \n",
       "6         EMMANUEL SCHOOLS FOUNDATION  TR03704                 4464331   \n",
       "7             DJANOGLY LEARNING TRUST  TR00672                 4544722   \n",
       "8      CITY OF LONDON ACADEMIES TRUST  TR00514                 4504128   \n",
       "9  THOMAS TELFORD MULTI ACADEMY TRUST  TR01870                 4798185   \n",
       "\n",
       "                          Sponsor** Sponsor ID  \n",
       "0                       Greig Trust    SP00249  \n",
       "1  Academies Enterprise Trust (AET)    SP00003  \n",
       "2                 Harris Federation    SP00257  \n",
       "3                    Sir Frank Lowe    SP00466  \n",
       "4                         Alec Reed    SP00011  \n",
       "5             United Learning Trust    SP00592  \n",
       "6       Emmanuel Schools Foundation    SP00220  \n",
       "7           Djanogly Learning Trust    SP00198  \n",
       "8    City of London Academies Trust    SP00128  \n",
       "9             Thomas Telford School    SP00576  "
      ]
     },
     "execution_count": 47,
     "metadata": {},
     "output_type": "execute_result"
    }
   ],
   "source": [
    "URNchanges.head(10)"
   ]
  },
  {
   "cell_type": "code",
   "execution_count": 52,
   "metadata": {},
   "outputs": [],
   "source": [
    "# Add cols showing URN of predecessor school(s)\n",
    "\n",
    "toKeep = ['Academy Name','Open','Predecessor School URN(s)','URN']\n",
    "toDrop = set(URNchanges.columns) - set(toKeep)\n",
    "bigDFnoDups1 = bigDFnoDups.merge(URNchanges, how='left', on='URN')\n",
    "bigDFnoDups1.drop(toDrop, axis=1, inplace=True)\n",
    "bigDFnoDups1.to_csv('bigDFnoDups1.csv')"
   ]
  },
  {
   "cell_type": "code",
   "execution_count": 49,
   "metadata": {},
   "outputs": [
    {
     "data": {
      "text/plain": [
       "(85387, 139)"
      ]
     },
     "execution_count": 49,
     "metadata": {},
     "output_type": "execute_result"
    }
   ],
   "source": [
    "bigDFnoDups1.shape"
   ]
  },
  {
   "cell_type": "code",
   "execution_count": 50,
   "metadata": {},
   "outputs": [
    {
     "name": "stdout",
     "output_type": "stream",
     "text": [
      "Web link\n",
      "LAESTAB\n",
      "School name\n",
      "Post code\n",
      "Ofsted region\n",
      "Region\n",
      "Local authority\n",
      "Parliamentary constituency\n",
      "Type of school\n",
      "Phase of school\n",
      "Ofsted phase\n",
      "Dataview phase\n",
      "Predecessor URN of schools converting to academy\n",
      "Schools open/closed status\n",
      "School opening date\n",
      "Reason for opening\n",
      "School closing date\n",
      "Reason for closure\n",
      "Inspection number\n",
      "Inspection type\n",
      "Academic year\n",
      "Inspection start date\n",
      "Inspection end date\n",
      "First published date\n",
      "Latest published date\n",
      "Overall effectiveness\n",
      "Category\n",
      "Sixth form provision\n",
      "Early years provision\n",
      "Pupils' achievement (aggregated)\n",
      "Achievement of pupils\n",
      "How well do pupils achieve?\n",
      "Behaviour and safety of pupils\n",
      "Quality of teaching\n",
      "Leadership and management\n",
      "Overall effectiveness of residential experience (aggregated)\n",
      "The effectiveness of the boarding provision (pre Jan 2012)\n",
      "Overall effectiveness of residential experience (post Jan 2012)\n",
      "Outcomes for residential pupils (post Jan 2012)\n",
      "Quality of residential provision and care (post Jan 2012)\n",
      "Residential pupils safety (post Jan 2012)\n",
      "Leadership and management of the residential provision (post Jan 2012)\n",
      "The effectiveness of partnerships in promoting learning and well-being\n",
      "The school's capacity for sustained improvement\n",
      "Outcomes for individuals and groups of pupils\n",
      "Pupils' attainment\n",
      "The quality of pupils' learning and their progress\n",
      "Outcomes for children in the Early Years Foundation Stage\n",
      "The quality of learning for pupils with special educational needs and/or disabilities and their progress\n",
      "Outcomes for students in the sixth form \n",
      "The extent of pupils' spiritual, moral, social and cultural development\n",
      "The extent to which pupils adopt healthy lifestyles\n",
      "The extent to which pupils feel safe\n",
      "Pupils' attendance\n",
      "The extent to which pupils contribute to the school and wider community\n",
      "The extent to which pupils develop workplace and other skills that will contribute to their future economic well-being\n",
      "The quality of provision in the sixth form\n",
      "The extent to which the curriculum meets pupils' needs, including, where relevant, through partnerships\n",
      "The effectiveness of care, guidance and support\n",
      "The use of assessment to support learning\n",
      "The quality of provision in the Early Years Foundation Stage\n",
      "The effectiveness of leadership and management of the Early Years Foundation Stage\n",
      "The effectiveness of leadership and management of the sixth form\n",
      "The effectiveness with which the school promotes equality of opportunity and tackles discrimination\n",
      "The effectiveness with which the school promotes community cohesion\n",
      "The effectiveness with which the school deploys resources to achieve value for money\n",
      "The effectiveness of the governing body in challenging and supporting the school so that weaknesses are tackled decisively...\n",
      "The effectiveness of safeguarding procedures\n",
      "The effectiveness of the school's engagement with parents and carers\n",
      "The leadership and management of teaching and learning\n",
      "Pilot_Does the school adequately promote the pupils' well-being?\n",
      "Pilot_Does the school adequately promote community cohesion?\n",
      "Pilot_Does the school provide value for money?\n",
      "Inspection number of the previous inspection\n",
      "Academic year of the previous inspection\n",
      "Inspection end date of the previous inspection\n",
      "Previous inspection - Overall effectiveness\n",
      "Previous inspection - Category\n",
      "Movement in overall effectiveness since previous inspection\n",
      "Time between inspections (months)\n",
      "Web Link\n",
      "Organisation ID\n",
      "Postcode\n",
      "Type of education\n",
      "Phase of education\n",
      "Sixth form\n",
      "Predecessor URN\n",
      "Number of warning notices issued in 2015/16 academic year\n",
      "Total number of pupils\n",
      "Deprivation index\n",
      "Inspection type grouping\n",
      "Event type grouping\n",
      "Category of concern\n",
      "Outcomes for pupils\n",
      "Quality of teaching, learning and assessment\n",
      "Effectiveness of leadership and management\n",
      "Personal development, behaviour and welfare\n",
      "Early years provision (where applicable)\n",
      "16 - 19 study programmes\n",
      "Previous inspection number\n",
      "Previous inspection start date\n",
      "Previous inspection end date\n",
      "Previous overall effectiveness\n",
      "Previous category of concern\n",
      "Previous outcomes for pupils\n",
      "Previous quality of teaching, learning and assessment\n",
      "Previous effectiveness of leadership and management\n",
      "Previous personal development, behaviour and welfare\n",
      "Previous early years provision (where applicable)\n",
      "Previous 16 - 19 study programmes\n",
      "Number of warning notices issued in 2016/17 academic year\n",
      "Publication date\n",
      "Previous publication date\n",
      "Admissions policy\n",
      "Designated religious character\n",
      "Religious ethos\n",
      "Faith grouping\n",
      "Number of warning notices issued in 2017/18 academic year\n",
      "School open date\n",
      "Outcomes for short inspections that did not convert\n",
      "Does the previous inspection relate to the school in its current form?\n",
      "URN at time of previous inspection\n",
      "LAESTAB at time of previous inspection\n",
      "School name at time of previous inspection\n",
      "School type at time of previous inspection\n",
      "Type of establishment\n",
      "Inspection type grouping (final)\n",
      "16-19 study programmes\n",
      "Previous 16-19 study programmes\n",
      "Linked school type of education\n",
      "OB number on Roll\n",
      "conversion decision\n",
      "deemed flag\n",
      "Withdrawn date\n",
      "Previous withdrawn date\n",
      "Number of warning notices issued in 2018/19 academic year\n",
      "Academy Name\n",
      "Open\n",
      "Predecessor School URN(s)\n"
     ]
    }
   ],
   "source": [
    "for col in bigDFnoDups1.columns:\n",
    "    print(col)"
   ]
  },
  {
   "cell_type": "code",
   "execution_count": 51,
   "metadata": {},
   "outputs": [
    {
     "name": "stdout",
     "output_type": "stream",
     "text": [
      "4347\n",
      "1468\n",
      "0\n"
     ]
    }
   ],
   "source": [
    "\n",
    "bigDFnoDups1[(bigDFnoDups1['Predecessor School URN(s)'])==(bigDFnoDups1['Predecessor URN'])][\n",
    "    ['Predecessor School URN(s)', 'Predecessor URN']]\n",
    "\n",
    "print(bigDFnoDups1['Predecessor School URN(s)'].nunique()) # column added from separate sheet\n",
    "print(bigDFnoDups1['Predecessor URN'].nunique())\n",
    "\n",
    "print(bigDFnoDups1[bigDFnoDups1['Predecessor School URN(s)'].isnull()]['Predecessor School URN(s)'].count())\n",
    "#"
   ]
  },
  {
   "cell_type": "markdown",
   "metadata": {},
   "source": [
    "Now have:\n",
    "\n",
    "bigDFnoDups1(.csv) has a single row for each inspection (so multiple rows for a single school with multiple inspections). If it is an academy that has changed from a school since 2005, the 'Predecessor School URN(s)' col shows the URN(s) of the school(s) that have formed it. \n",
    "\n",
    "Now need to get, for each CURRENT school/academy, the number of each type of inspection grading it has received since 2005. This can be used to work out whether the school is stuck.\n",
    "\n",
    "1. Get list of current schools/academies\n",
    "2. Find all inspections for them and make new cols\n",
    "3. Add inspections for previous incarnations of the same school/academy\n",
    "\n",
    "Make blank dictionary to record no of times with a 1 outcome, 2 outcome, 3 outcome, 4 outcome for each school.\n",
    "Each dictionary entry to be {URN:[no 1s, no 2s, no 3s, no 4s]}\n",
    "\n",
    "Write function and use pd.apply:\n",
    "\n",
    "For given value of URN:\n",
    "    Find rows with the same URN\n",
    "    For each of these rows:\n",
    "        Determine if it is an inspection that counts towards the 4 needed to be stuck\n",
    "        If so, increment value in dictionary e.g. dict[URN][inspection score e.g. 2] +=1. [Can this all be done by just working through the rows of the table, regardless of repeats?]\n",
    "\n",
    "After dictionary is full, do 2nd loop where you look for predecessor school\n",
    "See if URN appears in predecessor URN col (beware commas & multiple entries)\n",
    "    If so, look for that value in the dictionary\n",
    "    Add values from list in dictionary to the list in the dictionary for existing URN\n",
    "    \n",
    "Use dictionary lists to label schools as stuck or not.."
   ]
  }
 ],
 "metadata": {
  "kernelspec": {
   "display_name": "Python 3",
   "language": "python",
   "name": "python3"
  },
  "language_info": {
   "codemirror_mode": {
    "name": "ipython",
    "version": 3
   },
   "file_extension": ".py",
   "mimetype": "text/x-python",
   "name": "python",
   "nbconvert_exporter": "python",
   "pygments_lexer": "ipython3",
   "version": "3.7.3"
  }
 },
 "nbformat": 4,
 "nbformat_minor": 2
}
